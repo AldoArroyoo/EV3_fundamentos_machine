{
  "nbformat": 4,
  "nbformat_minor": 0,
  "metadata": {
    "colab": {
      "provenance": []
    },
    "kernelspec": {
      "name": "python3",
      "display_name": "Python 3"
    },
    "language_info": {
      "name": "python"
    }
  },
  "cells": [
    {
      "cell_type": "markdown",
      "source": [
        "# Carga Modelos de regresión\n",
        "\n",
        "**Autor/es:**\n",
        "+ Benjamín Sepulveda\n",
        "+ Aldo Arroyo\n",
        "\n",
        "**Correos Electrónicos:**\n",
        "+ be.sepulvedat@duocuc.cl\n",
        "+ ald.arroyo@duocuc.cl\n",
        "\n",
        "**Fecha de Creación:** 15 de Octubre de 2024  \n",
        "**Versión:** 1.0\n",
        "\n",
        "---\n",
        "\n",
        "## Descripción\n",
        "\n",
        "Este notebook contiene el uso de modelos de regresión cargados para la evaluación de modelos de regresión de la asignatura de Fundamentos de Machine Learning de la carrera de Ingeniería en informática de DuocUC - Sede Concepción\n"
      ],
      "metadata": {
        "id": "ges6kPUBUVcq"
      }
    },
    {
      "cell_type": "markdown",
      "source": [
        "# Uso de modelos\n",
        "\n",
        "Acá debe cargar desde el archivo pickle cada variante y cargar el JSON con las entradas, generando así el JSON con las predicciones"
      ],
      "metadata": {
        "id": "8g-efcJsX3Ld"
      }
    },
    {
      "cell_type": "code",
      "source": [
        "import json\n",
        "import pickle\n",
        "import pandas as pd\n",
        "import numpy as np\n"
      ],
      "metadata": {
        "id": "sA0ginIm1gSZ"
      },
      "execution_count": 1,
      "outputs": []
    },
    {
      "cell_type": "markdown",
      "source": [
        "## Carga de modelo"
      ],
      "metadata": {
        "id": "TiKMvsliX7f_"
      }
    },
    {
      "cell_type": "markdown",
      "source": [
        "Descarga del modelo almacendao en git hub"
      ],
      "metadata": {
        "id": "UyQCyNmNdI0p"
      }
    },
    {
      "cell_type": "code",
      "source": [
        "!wget https://raw.githubusercontent.com/AldoArroyoo/EV3_fundamentos_machine/main/best_model_with_pca.pkl\n",
        "# Descargar el archivo y guardarlo en el directorio actual\n"
      ],
      "metadata": {
        "colab": {
          "base_uri": "https://localhost:8080/"
        },
        "id": "qTVfdodnPi61",
        "outputId": "cf397034-d39a-430e-de38-663c03e2a8ad"
      },
      "execution_count": 2,
      "outputs": [
        {
          "output_type": "stream",
          "name": "stdout",
          "text": [
            "--2024-11-20 12:56:35--  https://raw.githubusercontent.com/AldoArroyoo/EV3_fundamentos_machine/main/best_model_with_pca.pkl\n",
            "Resolving raw.githubusercontent.com (raw.githubusercontent.com)... 185.199.111.133, 185.199.108.133, 185.199.109.133, ...\n",
            "Connecting to raw.githubusercontent.com (raw.githubusercontent.com)|185.199.111.133|:443... connected.\n",
            "HTTP request sent, awaiting response... 200 OK\n",
            "Length: 7955370 (7.6M) [application/octet-stream]\n",
            "Saving to: ‘best_model_with_pca.pkl’\n",
            "\n",
            "best_model_with_pca 100%[===================>]   7.59M  17.9MB/s    in 0.4s    \n",
            "\n",
            "2024-11-20 12:56:37 (17.9 MB/s) - ‘best_model_with_pca.pkl’ saved [7955370/7955370]\n",
            "\n"
          ]
        }
      ]
    },
    {
      "cell_type": "markdown",
      "source": [
        "Una vez descargado este se carga"
      ],
      "metadata": {
        "id": "Cc4znDD0WM9d"
      }
    },
    {
      "cell_type": "code",
      "source": [
        "\n",
        "# Cargar el modelo y el PCA desde el archivo\n",
        "with open('best_model_with_pca.pkl', 'rb') as file:\n",
        "    model_dict = pickle.load(file)\n",
        "\n",
        "# Acceder al modelo RandomForest y al PCA\n",
        "model = model_dict['model']\n",
        "pca = model_dict['pca']"
      ],
      "metadata": {
        "id": "-7VzL4lAX_GW"
      },
      "execution_count": 3,
      "outputs": []
    },
    {
      "cell_type": "markdown",
      "source": [
        "## Carga JSON para pruebas"
      ],
      "metadata": {
        "id": "XiIx--hRdUxn"
      }
    },
    {
      "cell_type": "code",
      "source": [
        "!wget https://raw.githubusercontent.com/AldoArroyoo/EV3_fundamentos_machine/main/test_data.json"
      ],
      "metadata": {
        "colab": {
          "base_uri": "https://localhost:8080/"
        },
        "id": "wlyxHwFmWTHk",
        "outputId": "08d64e25-4df8-43ba-a2e7-fb86c28a67e2"
      },
      "execution_count": 4,
      "outputs": [
        {
          "output_type": "stream",
          "name": "stdout",
          "text": [
            "--2024-11-20 12:56:40--  https://raw.githubusercontent.com/AldoArroyoo/EV3_fundamentos_machine/main/test_data.json\n",
            "Resolving raw.githubusercontent.com (raw.githubusercontent.com)... 185.199.110.133, 185.199.109.133, 185.199.108.133, ...\n",
            "Connecting to raw.githubusercontent.com (raw.githubusercontent.com)|185.199.110.133|:443... connected.\n",
            "HTTP request sent, awaiting response... 200 OK\n",
            "Length: 4878 (4.8K) [text/plain]\n",
            "Saving to: ‘test_data.json’\n",
            "\n",
            "test_data.json      100%[===================>]   4.76K  --.-KB/s    in 0s      \n",
            "\n",
            "2024-11-20 12:56:41 (55.3 MB/s) - ‘test_data.json’ saved [4878/4878]\n",
            "\n"
          ]
        }
      ]
    },
    {
      "cell_type": "markdown",
      "source": [],
      "metadata": {
        "id": "cBHnzSD-Z6mR"
      }
    },
    {
      "cell_type": "code",
      "source": [
        "# Cargar el archivo JSON\n",
        "with open('test_data.json', 'r') as f:\n",
        "    data = json.load(f)\n",
        "\n",
        "print(data)  # Verifica la estructura de los datos"
      ],
      "metadata": {
        "colab": {
          "base_uri": "https://localhost:8080/"
        },
        "id": "Lz7SkHEHW6L-",
        "outputId": "607df046-a7cd-4836-9757-79a0bb1a689c"
      },
      "execution_count": 5,
      "outputs": [
        {
          "output_type": "stream",
          "name": "stdout",
          "text": [
            "[{'Feature1': 0.3745401188, 'Feature2': 0.9507143064, 'Feature3': 0.7319939418, 'Feature4': 0.5986584842}, {'Feature1': 0.1560186404, 'Feature2': 0.1559945203, 'Feature3': 0.0580836122, 'Feature4': 0.8661761458}, {'Feature1': 0.6011150117, 'Feature2': 0.7080725778, 'Feature3': 0.0205844943, 'Feature4': 0.9699098522}, {'Feature1': 0.8324426408, 'Feature2': 0.2123391107, 'Feature3': 0.1818249672, 'Feature4': 0.1834045099}, {'Feature1': 0.304242243, 'Feature2': 0.5247564316, 'Feature3': 0.4319450186, 'Feature4': 0.2912291402}, {'Feature1': 0.6118528947, 'Feature2': 0.1394938607, 'Feature3': 0.2921446485, 'Feature4': 0.3663618433}, {'Feature1': 0.4560699842, 'Feature2': 0.7851759614, 'Feature3': 0.1996737822, 'Feature4': 0.5142344384}, {'Feature1': 0.5924145689, 'Feature2': 0.0464504127, 'Feature3': 0.6075448519, 'Feature4': 0.1705241237}, {'Feature1': 0.065051593, 'Feature2': 0.9488855373, 'Feature3': 0.9656320331, 'Feature4': 0.8083973481}, {'Feature1': 0.3046137692, 'Feature2': 0.097672114, 'Feature3': 0.6842330265, 'Feature4': 0.4401524937}, {'Feature1': 0.1220382348, 'Feature2': 0.4951769101, 'Feature3': 0.0343885211, 'Feature4': 0.9093204021}, {'Feature1': 0.2587799816, 'Feature2': 0.6625222844, 'Feature3': 0.3117110761, 'Feature4': 0.5200680212}, {'Feature1': 0.5467102793, 'Feature2': 0.1848544555, 'Feature3': 0.9695846278, 'Feature4': 0.7751328234}, {'Feature1': 0.9394989416, 'Feature2': 0.8948273504, 'Feature3': 0.5978999788, 'Feature4': 0.921874235}, {'Feature1': 0.0884925021, 'Feature2': 0.1959828624, 'Feature3': 0.0452272889, 'Feature4': 0.3253303308}, {'Feature1': 0.3886772897, 'Feature2': 0.2713490318, 'Feature3': 0.8287375092, 'Feature4': 0.3567533267}, {'Feature1': 0.2809345097, 'Feature2': 0.5426960832, 'Feature3': 0.140924225, 'Feature4': 0.8021969808}, {'Feature1': 0.0745506437, 'Feature2': 0.9868869366, 'Feature3': 0.7722447693, 'Feature4': 0.1987156815}, {'Feature1': 0.0055221171, 'Feature2': 0.8154614285, 'Feature3': 0.7068573438, 'Feature4': 0.729007168}, {'Feature1': 0.7712703467, 'Feature2': 0.0740446517, 'Feature3': 0.3584657285, 'Feature4': 0.1158690595}, {'Feature1': 0.8631034259, 'Feature2': 0.6232981268, 'Feature3': 0.3308980249, 'Feature4': 0.0635583503}, {'Feature1': 0.3109823217, 'Feature2': 0.325183322, 'Feature3': 0.7296061783, 'Feature4': 0.6375574714}, {'Feature1': 0.8872127426, 'Feature2': 0.4722149252, 'Feature3': 0.1195942459, 'Feature4': 0.7132447872}, {'Feature1': 0.7607850486, 'Feature2': 0.5612771976, 'Feature3': 0.77096718, 'Feature4': 0.4937955964}, {'Feature1': 0.5227328294, 'Feature2': 0.4275410184, 'Feature3': 0.0254191267, 'Feature4': 0.107891427}, {'Feature1': 0.0314291857, 'Feature2': 0.6364104113, 'Feature3': 0.3143559811, 'Feature4': 0.5085706912}, {'Feature1': 0.9075664739, 'Feature2': 0.2492922291, 'Feature3': 0.410382923, 'Feature4': 0.7555511385}, {'Feature1': 0.2287981655, 'Feature2': 0.0769799098, 'Feature3': 0.2897514529, 'Feature4': 0.1612212873}, {'Feature1': 0.9296976523, 'Feature2': 0.8081203796, 'Feature3': 0.6334037565, 'Feature4': 0.8714605902}, {'Feature1': 0.8036720769, 'Feature2': 0.1865700589, 'Feature3': 0.8925589985, 'Feature4': 0.5393422419}, {'Feature1': 0.8074401552, 'Feature2': 0.8960912999, 'Feature3': 0.318003475, 'Feature4': 0.1100519245}, {'Feature1': 0.2279351625, 'Feature2': 0.4271077886, 'Feature3': 0.8180147659, 'Feature4': 0.8607305833}, {'Feature1': 0.0069521305, 'Feature2': 0.5107473026, 'Feature3': 0.4174110031, 'Feature4': 0.2221078105}, {'Feature1': 0.1198653673, 'Feature2': 0.3376151714, 'Feature3': 0.9429097039, 'Feature4': 0.323202932}, {'Feature1': 0.5187906217, 'Feature2': 0.7030189589, 'Feature3': 0.3636296024, 'Feature4': 0.9717820827}, {'Feature1': 0.9624472949, 'Feature2': 0.2517822958, 'Feature3': 0.4972485059, 'Feature4': 0.3008783098}, {'Feature1': 0.2848404944, 'Feature2': 0.0368869474, 'Feature3': 0.609564334, 'Feature4': 0.5026790232}, {'Feature1': 0.0514787512, 'Feature2': 0.2786464642, 'Feature3': 0.908265886, 'Feature4': 0.2395618907}, {'Feature1': 0.1448948721, 'Feature2': 0.4894527603, 'Feature3': 0.9856504541, 'Feature4': 0.2420552715}, {'Feature1': 0.6721355474, 'Feature2': 0.7616196153, 'Feature3': 0.237637544, 'Feature4': 0.7282163486}, {'Feature1': 0.3677831327, 'Feature2': 0.6323058306, 'Feature3': 0.6335297108, 'Feature4': 0.5357746841}, {'Feature1': 0.0902897701, 'Feature2': 0.8353024956, 'Feature3': 0.320780065, 'Feature4': 0.1865185104}, {'Feature1': 0.0407751416, 'Feature2': 0.5908929432, 'Feature3': 0.6775643618, 'Feature4': 0.0165878289}, {'Feature1': 0.5120930583, 'Feature2': 0.2264957752, 'Feature3': 0.6451727904, 'Feature4': 0.174366429}, {'Feature1': 0.6909377381, 'Feature2': 0.3867353463, 'Feature3': 0.9367299887, 'Feature4': 0.1375209441}, {'Feature1': 0.3410663511, 'Feature2': 0.1134735212, 'Feature3': 0.9246936183, 'Feature4': 0.8773393534}, {'Feature1': 0.2579416277, 'Feature2': 0.659984046, 'Feature3': 0.8172222002, 'Feature4': 0.5552008116}, {'Feature1': 0.5296505784, 'Feature2': 0.2418522909, 'Feature3': 0.0931027678, 'Feature4': 0.897215758}, {'Feature1': 0.9004180572, 'Feature2': 0.6331014573, 'Feature3': 0.339029791, 'Feature4': 0.3492095746}, {'Feature1': 0.7259556789, 'Feature2': 0.89711026, 'Feature3': 0.8870864243, 'Feature4': 0.7798755459}]\n"
          ]
        }
      ]
    },
    {
      "cell_type": "markdown",
      "source": [
        "# Predicciones"
      ],
      "metadata": {
        "id": "OjthSUSxds6M"
      }
    },
    {
      "cell_type": "code",
      "source": [
        "\n",
        "# Cargar el archivo JSON con los datos\n",
        "url = 'test_data.json'\n",
        "data = []\n",
        "with open(url, 'r') as f:\n",
        "    data = json.load(f)\n",
        "\n",
        "# Lista para almacenar las predicciones\n",
        "predicciones = []\n",
        "\n",
        "# Hacer predicciones\n",
        "for entry in data:\n",
        "    X_new_1 = pd.DataFrame([entry], columns=['Feature1','Feature2','Feature3','Feature4'])\n",
        "\n",
        "    # Realizar la predicción con el modelo\n",
        "    pred_1 = model.predict(X_new_1)[0]\n",
        "\n",
        "    # Asegurarse de que la predicción sea un tipo compatible con JSON (booleano nativo de Python)\n",
        "    pred_1 = bool(pred_1) if isinstance(pred_1, np.bool_) else pred_1\n",
        "\n",
        "    predicciones.append({\n",
        "        'inputs': entry,\n",
        "        'prediction': pred_1\n",
        "    })\n",
        "\n",
        "# Guardar las predicciones en un archivo JSON\n",
        "json_con_predicciones = 'predictions.json'\n",
        "with open(json_con_predicciones, 'w') as f:\n",
        "    json.dump(predicciones, f, indent=4)\n",
        "\n",
        "print(f\"Predicciones guardadas exitosamente en {json_con_predicciones}\")"
      ],
      "metadata": {
        "colab": {
          "base_uri": "https://localhost:8080/"
        },
        "id": "K0H8PsZ9cGaL",
        "outputId": "205d50ff-ee38-4c25-b98f-e090e4156b37"
      },
      "execution_count": 6,
      "outputs": [
        {
          "output_type": "stream",
          "name": "stderr",
          "text": [
            "/usr/local/lib/python3.10/dist-packages/sklearn/base.py:486: UserWarning: X has feature names, but RandomForestClassifier was fitted without feature names\n",
            "  warnings.warn(\n",
            "/usr/local/lib/python3.10/dist-packages/sklearn/base.py:486: UserWarning: X has feature names, but RandomForestClassifier was fitted without feature names\n",
            "  warnings.warn(\n",
            "/usr/local/lib/python3.10/dist-packages/sklearn/base.py:486: UserWarning: X has feature names, but RandomForestClassifier was fitted without feature names\n",
            "  warnings.warn(\n",
            "/usr/local/lib/python3.10/dist-packages/sklearn/base.py:486: UserWarning: X has feature names, but RandomForestClassifier was fitted without feature names\n",
            "  warnings.warn(\n",
            "/usr/local/lib/python3.10/dist-packages/sklearn/base.py:486: UserWarning: X has feature names, but RandomForestClassifier was fitted without feature names\n",
            "  warnings.warn(\n",
            "/usr/local/lib/python3.10/dist-packages/sklearn/base.py:486: UserWarning: X has feature names, but RandomForestClassifier was fitted without feature names\n",
            "  warnings.warn(\n",
            "/usr/local/lib/python3.10/dist-packages/sklearn/base.py:486: UserWarning: X has feature names, but RandomForestClassifier was fitted without feature names\n",
            "  warnings.warn(\n",
            "/usr/local/lib/python3.10/dist-packages/sklearn/base.py:486: UserWarning: X has feature names, but RandomForestClassifier was fitted without feature names\n",
            "  warnings.warn(\n",
            "/usr/local/lib/python3.10/dist-packages/sklearn/base.py:486: UserWarning: X has feature names, but RandomForestClassifier was fitted without feature names\n",
            "  warnings.warn(\n",
            "/usr/local/lib/python3.10/dist-packages/sklearn/base.py:486: UserWarning: X has feature names, but RandomForestClassifier was fitted without feature names\n",
            "  warnings.warn(\n",
            "/usr/local/lib/python3.10/dist-packages/sklearn/base.py:486: UserWarning: X has feature names, but RandomForestClassifier was fitted without feature names\n",
            "  warnings.warn(\n",
            "/usr/local/lib/python3.10/dist-packages/sklearn/base.py:486: UserWarning: X has feature names, but RandomForestClassifier was fitted without feature names\n",
            "  warnings.warn(\n",
            "/usr/local/lib/python3.10/dist-packages/sklearn/base.py:486: UserWarning: X has feature names, but RandomForestClassifier was fitted without feature names\n",
            "  warnings.warn(\n",
            "/usr/local/lib/python3.10/dist-packages/sklearn/base.py:486: UserWarning: X has feature names, but RandomForestClassifier was fitted without feature names\n",
            "  warnings.warn(\n",
            "/usr/local/lib/python3.10/dist-packages/sklearn/base.py:486: UserWarning: X has feature names, but RandomForestClassifier was fitted without feature names\n",
            "  warnings.warn(\n",
            "/usr/local/lib/python3.10/dist-packages/sklearn/base.py:486: UserWarning: X has feature names, but RandomForestClassifier was fitted without feature names\n",
            "  warnings.warn(\n",
            "/usr/local/lib/python3.10/dist-packages/sklearn/base.py:486: UserWarning: X has feature names, but RandomForestClassifier was fitted without feature names\n",
            "  warnings.warn(\n",
            "/usr/local/lib/python3.10/dist-packages/sklearn/base.py:486: UserWarning: X has feature names, but RandomForestClassifier was fitted without feature names\n",
            "  warnings.warn(\n",
            "/usr/local/lib/python3.10/dist-packages/sklearn/base.py:486: UserWarning: X has feature names, but RandomForestClassifier was fitted without feature names\n",
            "  warnings.warn(\n",
            "/usr/local/lib/python3.10/dist-packages/sklearn/base.py:486: UserWarning: X has feature names, but RandomForestClassifier was fitted without feature names\n",
            "  warnings.warn(\n",
            "/usr/local/lib/python3.10/dist-packages/sklearn/base.py:486: UserWarning: X has feature names, but RandomForestClassifier was fitted without feature names\n",
            "  warnings.warn(\n",
            "/usr/local/lib/python3.10/dist-packages/sklearn/base.py:486: UserWarning: X has feature names, but RandomForestClassifier was fitted without feature names\n",
            "  warnings.warn(\n",
            "/usr/local/lib/python3.10/dist-packages/sklearn/base.py:486: UserWarning: X has feature names, but RandomForestClassifier was fitted without feature names\n",
            "  warnings.warn(\n",
            "/usr/local/lib/python3.10/dist-packages/sklearn/base.py:486: UserWarning: X has feature names, but RandomForestClassifier was fitted without feature names\n",
            "  warnings.warn(\n",
            "/usr/local/lib/python3.10/dist-packages/sklearn/base.py:486: UserWarning: X has feature names, but RandomForestClassifier was fitted without feature names\n",
            "  warnings.warn(\n",
            "/usr/local/lib/python3.10/dist-packages/sklearn/base.py:486: UserWarning: X has feature names, but RandomForestClassifier was fitted without feature names\n",
            "  warnings.warn(\n",
            "/usr/local/lib/python3.10/dist-packages/sklearn/base.py:486: UserWarning: X has feature names, but RandomForestClassifier was fitted without feature names\n",
            "  warnings.warn(\n",
            "/usr/local/lib/python3.10/dist-packages/sklearn/base.py:486: UserWarning: X has feature names, but RandomForestClassifier was fitted without feature names\n",
            "  warnings.warn(\n",
            "/usr/local/lib/python3.10/dist-packages/sklearn/base.py:486: UserWarning: X has feature names, but RandomForestClassifier was fitted without feature names\n",
            "  warnings.warn(\n",
            "/usr/local/lib/python3.10/dist-packages/sklearn/base.py:486: UserWarning: X has feature names, but RandomForestClassifier was fitted without feature names\n",
            "  warnings.warn(\n",
            "/usr/local/lib/python3.10/dist-packages/sklearn/base.py:486: UserWarning: X has feature names, but RandomForestClassifier was fitted without feature names\n",
            "  warnings.warn(\n",
            "/usr/local/lib/python3.10/dist-packages/sklearn/base.py:486: UserWarning: X has feature names, but RandomForestClassifier was fitted without feature names\n",
            "  warnings.warn(\n",
            "/usr/local/lib/python3.10/dist-packages/sklearn/base.py:486: UserWarning: X has feature names, but RandomForestClassifier was fitted without feature names\n",
            "  warnings.warn(\n",
            "/usr/local/lib/python3.10/dist-packages/sklearn/base.py:486: UserWarning: X has feature names, but RandomForestClassifier was fitted without feature names\n",
            "  warnings.warn(\n",
            "/usr/local/lib/python3.10/dist-packages/sklearn/base.py:486: UserWarning: X has feature names, but RandomForestClassifier was fitted without feature names\n",
            "  warnings.warn(\n"
          ]
        },
        {
          "output_type": "stream",
          "name": "stdout",
          "text": [
            "Predicciones guardadas exitosamente en predictions.json\n"
          ]
        },
        {
          "output_type": "stream",
          "name": "stderr",
          "text": [
            "/usr/local/lib/python3.10/dist-packages/sklearn/base.py:486: UserWarning: X has feature names, but RandomForestClassifier was fitted without feature names\n",
            "  warnings.warn(\n",
            "/usr/local/lib/python3.10/dist-packages/sklearn/base.py:486: UserWarning: X has feature names, but RandomForestClassifier was fitted without feature names\n",
            "  warnings.warn(\n",
            "/usr/local/lib/python3.10/dist-packages/sklearn/base.py:486: UserWarning: X has feature names, but RandomForestClassifier was fitted without feature names\n",
            "  warnings.warn(\n",
            "/usr/local/lib/python3.10/dist-packages/sklearn/base.py:486: UserWarning: X has feature names, but RandomForestClassifier was fitted without feature names\n",
            "  warnings.warn(\n",
            "/usr/local/lib/python3.10/dist-packages/sklearn/base.py:486: UserWarning: X has feature names, but RandomForestClassifier was fitted without feature names\n",
            "  warnings.warn(\n",
            "/usr/local/lib/python3.10/dist-packages/sklearn/base.py:486: UserWarning: X has feature names, but RandomForestClassifier was fitted without feature names\n",
            "  warnings.warn(\n",
            "/usr/local/lib/python3.10/dist-packages/sklearn/base.py:486: UserWarning: X has feature names, but RandomForestClassifier was fitted without feature names\n",
            "  warnings.warn(\n",
            "/usr/local/lib/python3.10/dist-packages/sklearn/base.py:486: UserWarning: X has feature names, but RandomForestClassifier was fitted without feature names\n",
            "  warnings.warn(\n",
            "/usr/local/lib/python3.10/dist-packages/sklearn/base.py:486: UserWarning: X has feature names, but RandomForestClassifier was fitted without feature names\n",
            "  warnings.warn(\n",
            "/usr/local/lib/python3.10/dist-packages/sklearn/base.py:486: UserWarning: X has feature names, but RandomForestClassifier was fitted without feature names\n",
            "  warnings.warn(\n",
            "/usr/local/lib/python3.10/dist-packages/sklearn/base.py:486: UserWarning: X has feature names, but RandomForestClassifier was fitted without feature names\n",
            "  warnings.warn(\n",
            "/usr/local/lib/python3.10/dist-packages/sklearn/base.py:486: UserWarning: X has feature names, but RandomForestClassifier was fitted without feature names\n",
            "  warnings.warn(\n",
            "/usr/local/lib/python3.10/dist-packages/sklearn/base.py:486: UserWarning: X has feature names, but RandomForestClassifier was fitted without feature names\n",
            "  warnings.warn(\n",
            "/usr/local/lib/python3.10/dist-packages/sklearn/base.py:486: UserWarning: X has feature names, but RandomForestClassifier was fitted without feature names\n",
            "  warnings.warn(\n",
            "/usr/local/lib/python3.10/dist-packages/sklearn/base.py:486: UserWarning: X has feature names, but RandomForestClassifier was fitted without feature names\n",
            "  warnings.warn(\n"
          ]
        }
      ]
    }
  ]
}